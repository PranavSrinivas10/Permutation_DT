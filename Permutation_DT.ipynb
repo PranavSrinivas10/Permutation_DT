{
 "cells": [
  {
   "cell_type": "markdown",
   "metadata": {},
   "source": [
    "## Import tools"
   ]
  },
  {
   "cell_type": "code",
   "execution_count": 1,
   "metadata": {},
   "outputs": [],
   "source": [
    "import numpy as np\n",
    "import pandas as pd\n",
    "import math\n",
    "import random\n",
    "from matplotlib import pyplot as plt\n",
    "from sklearn.model_selection import train_test_split\n",
    "from sklearn.model_selection import TimeSeriesSplit\n",
    "from sklearn.metrics import accuracy_score\n",
    "from ucimlrepo import fetch_ucirepo"
   ]
  },
  {
   "cell_type": "markdown",
   "metadata": {},
   "source": [
    "## Node class"
   ]
  },
  {
   "cell_type": "code",
   "execution_count": 2,
   "metadata": {},
   "outputs": [],
   "source": [
    "class Node():\n",
    "    def __init__(self, feature_index=None, threshold=None, left=None, right=None, info_gain=None, value=None): \n",
    "        \n",
    "        # for decision node\n",
    "        self.feature_index = feature_index\n",
    "        self.threshold = threshold\n",
    "        self.left = left\n",
    "        self.right = right\n",
    "        self.info_gain = info_gain\n",
    "        \n",
    "        # for leaf node\n",
    "        self.value = value"
   ]
  },
  {
   "cell_type": "markdown",
   "metadata": {},
   "source": [
    "## Tree class"
   ]
  },
  {
   "cell_type": "code",
   "execution_count": 3,
   "metadata": {},
   "outputs": [],
   "source": [
    "class DecisionTreeClassifier():\n",
    "    def __init__(self, min_samples_split=2, max_depth=2, mode='etc'):\n",
    "        \n",
    "        # initialize the root of the tree \n",
    "        self.root = None\n",
    "        \n",
    "        # stopping conditions\n",
    "        self.min_samples_split = min_samples_split\n",
    "        self.max_depth = max_depth\n",
    "        self.mode = mode\n",
    "        \n",
    "    def build_tree(self, dataset, curr_depth=0): \n",
    "        \n",
    "        X, Y = dataset[:,:-1], dataset[:,-1]\n",
    "        num_samples, num_features = np.shape(X)\n",
    "        \n",
    "        # split until stopping conditions are met\n",
    "        if num_samples>=self.min_samples_split and curr_depth<=self.max_depth:\n",
    "            # find the best split\n",
    "            best_split = self.get_best_split(dataset, num_samples, num_features)\n",
    "            # check if information gain is positive\n",
    "            #print(\"INFO_GAIN: \" + str(best_split[\"info_gain\"]))\n",
    "            if best_split[\"info_gain\"]>0:\n",
    "                # recur left\n",
    "                left_subtree = self.build_tree(best_split[\"dataset_left\"], curr_depth+1)\n",
    "                # recur right\n",
    "                right_subtree = self.build_tree(best_split[\"dataset_right\"], curr_depth+1)\n",
    "                # return decision node\n",
    "                return Node(best_split[\"feature_index\"], best_split[\"threshold\"], \n",
    "                            left_subtree, right_subtree, best_split[\"info_gain\"])\n",
    "        \n",
    "        # compute leaf node\n",
    "        leaf_value = self.calculate_leaf_value(Y)\n",
    "        # return leaf node\n",
    "        return Node(value=leaf_value)\n",
    "    \n",
    "    def get_best_split(self, dataset, num_samples, num_features):\n",
    "        \n",
    "        # dictionary to store the best split\n",
    "        best_split = {}\n",
    "        max_info_gain = -float(\"inf\")\n",
    "        \n",
    "        # loop over all the features\n",
    "        for feature_index in range(num_features):\n",
    "            feature_values = dataset[:, feature_index]\n",
    "            possible_thresholds = np.unique(feature_values)\n",
    "            # loop over all the feature values present in the data\n",
    "            for threshold in possible_thresholds:\n",
    "                # get current split\n",
    "                dataset_left, dataset_right = self.split(dataset, feature_index, threshold)\n",
    "                # check if childs are not null\n",
    "                if len(dataset_left)>0 and len(dataset_right)>0:\n",
    "                    y, left_y, right_y = dataset[:, -1], dataset_left[:, -1], dataset_right[:, -1]\n",
    "                    # compute information gain\n",
    "                    curr_info_gain = self.information_gain(y, left_y, right_y, self.mode)\n",
    "                    # update the best split if needed\n",
    "                    if curr_info_gain>max_info_gain:\n",
    "                        best_split[\"feature_index\"] = feature_index\n",
    "                        best_split[\"threshold\"] = threshold\n",
    "                        best_split[\"dataset_left\"] = dataset_left\n",
    "                        best_split[\"dataset_right\"] = dataset_right\n",
    "                        best_split[\"info_gain\"] = curr_info_gain\n",
    "                        max_info_gain = curr_info_gain\n",
    "                        \n",
    "        # return best split\n",
    "        return best_split\n",
    "    \n",
    "    def split(self, dataset, feature_index, threshold):\n",
    "        \n",
    "        dataset_left = np.array([row for row in dataset if row[feature_index]<=threshold])\n",
    "        dataset_right = np.array([row for row in dataset if row[feature_index]>threshold])\n",
    "        return dataset_left, dataset_right\n",
    "    \n",
    "    def information_gain(self, parent, l_child, r_child, mode=\"entropy\"):\n",
    "        \n",
    "        weight_l = len(l_child) / len(parent)\n",
    "        weight_r = len(r_child) / len(parent)\n",
    "        if mode==\"gini\":\n",
    "            gain = self.gini_index(parent) - (weight_l*self.gini_index(l_child) + weight_r*self.gini_index(r_child))\n",
    "        elif mode==\"etc\":\n",
    "            gain = self.nsrps(parent,2) - (weight_l*self.nsrps(l_child,2) + weight_r*self.nsrps(r_child,2))\n",
    "        else:\n",
    "            gain = self.entropy(parent) - (weight_l*self.entropy(l_child) + weight_r*self.entropy(r_child))\n",
    "        return gain\n",
    "    \n",
    "    def checkhomogenous(self, arr):\n",
    "        n = len(arr)\n",
    "        if n == 0:\n",
    "            return True\n",
    "        cur = arr[0]\n",
    "        for num in arr:\n",
    "            if num != cur:\n",
    "                return False\n",
    "        return True\n",
    "    \n",
    "    def nsrps(self, arr_og, k, first = True):\n",
    "        arr = []\n",
    "        if first:    \n",
    "            dict = {}\n",
    "            distinct_cnt = 0\n",
    "            for i in arr_og:\n",
    "                if i in dict.keys():\n",
    "                    arr.append(dict[i])\n",
    "                else:\n",
    "                    dict[i] = distinct_cnt\n",
    "                    arr.append(dict[i])\n",
    "                    distinct_cnt+=1\n",
    "        else:\n",
    "            arr = arr_og\n",
    "        if self.checkhomogenous(arr):\n",
    "            return 0\n",
    "\n",
    "        n = len(arr)\n",
    "        freq = {}\n",
    "        mxnum = max(arr)\n",
    "        mxfreq = 0\n",
    "        mxtup = ()\n",
    "        for i in range(n - k + 1):\n",
    "            cur = tuple(arr[i:i+k])\n",
    "            if cur in freq:\n",
    "                freq[cur] += 1\n",
    "            else:\n",
    "                freq[cur] = 1\n",
    "            if(freq[cur] > mxfreq):\n",
    "                mxfreq = freq[cur]\n",
    "                mxtup = cur\n",
    "\n",
    "        narr = []\n",
    "        i = 0\n",
    "        while (i < n):\n",
    "            cur = tuple(arr[i:i+k])\n",
    "            if(cur == mxtup):\n",
    "                narr.append(mxnum + 1)\n",
    "                i = i + k\n",
    "            else:\n",
    "                narr.append(arr[i])\n",
    "                i += 1\n",
    "        return 1 + self.nsrps(narr, k, False)\n",
    "    \n",
    "    def entropy(self, y):\n",
    "        \n",
    "        class_labels = np.unique(y)\n",
    "        entropy = 0\n",
    "        for cls in class_labels:\n",
    "            p_cls = len(y[y == cls]) / len(y)\n",
    "            entropy += -p_cls * np.log2(p_cls)\n",
    "        return entropy\n",
    "    \n",
    "    def gini_index(self, y):\n",
    "        \n",
    "        class_labels = np.unique(y)\n",
    "        gini = 0\n",
    "        for cls in class_labels:\n",
    "            p_cls = len(y[y == cls]) / len(y)\n",
    "            gini += p_cls**2\n",
    "        return 1 - gini\n",
    "        \n",
    "    def calculate_leaf_value(self, Y):\n",
    "        \n",
    "        Y = list(Y)\n",
    "        return max(Y, key=Y.count)\n",
    "    \n",
    "    def print_tree(self, tree=None, indent=\" \"):\n",
    "        \n",
    "        if not tree:\n",
    "            tree = self.root\n",
    "\n",
    "        if tree.value is not None:\n",
    "            print(tree.value)\n",
    "\n",
    "        else:\n",
    "            print(\"X_\"+str(tree.feature_index), \"<=\", tree.threshold, \"?\", tree.info_gain)\n",
    "            print(\"%sleft:\" % (indent), end=\"\")\n",
    "            self.print_tree(tree.left, indent + indent)\n",
    "            print(\"%sright:\" % (indent), end=\"\")\n",
    "            self.print_tree(tree.right, indent + indent)\n",
    "    \n",
    "    def fit(self, X, Y):\n",
    "        \n",
    "        dataset = np.concatenate((X, Y), axis=1)\n",
    "        self.root = self.build_tree(dataset)\n",
    "    \n",
    "    def predict(self, X):\n",
    "        \n",
    "        preditions = [self.make_prediction(x, self.root) for x in X]\n",
    "        return preditions\n",
    "    \n",
    "    def make_prediction(self, x, tree):\n",
    "        \n",
    "        if tree.value!=None: return tree.value\n",
    "        feature_val = x[tree.feature_index]\n",
    "        if feature_val<=tree.threshold:\n",
    "            return self.make_prediction(x, tree.left)\n",
    "        else:\n",
    "            return self.make_prediction(x, tree.right)"
   ]
  },
  {
   "cell_type": "markdown",
   "metadata": {},
   "source": [
    "## Toy Example Data"
   ]
  },
  {
   "cell_type": "code",
   "execution_count": null,
   "metadata": {},
   "outputs": [],
   "source": [
    "x1=[1,1,1,2,2,2,4,4]\n",
    "y1=[1,2,3,1,2,3,1,2]\n",
    "x0=[4,4,5,5,5,5]\n",
    "y0=[3,4,3,4,1,2]\n",
    "plt.plot(x0,y0,marker='o',linestyle=\"None\",label=\"Class-0\")\n",
    "plt.plot(x1,y1,marker='x',linestyle=\"None\",label=\"Class-1\")\n",
    "plt.xticks(range(8))\n",
    "plt.yticks(range(8))\n",
    "plt.xlabel(\"f1\")\n",
    "plt.ylabel(\"f2\")\n",
    "plt.legend()\n",
    "plt.show()\n",
    "# plotting the original dataset"
   ]
  },
  {
   "cell_type": "code",
   "execution_count": null,
   "metadata": {},
   "outputs": [],
   "source": [
    "f1=[1,1,1,2,2,2,4,4,4,4,5,5,5,5]\n",
    "# list of feature 1"
   ]
  },
  {
   "cell_type": "code",
   "execution_count": null,
   "metadata": {},
   "outputs": [],
   "source": [
    "f2=[1,2,3,1,2,3,1,2,3,4,1,2,3,4]\n",
    "# list of feature 2"
   ]
  },
  {
   "cell_type": "code",
   "execution_count": null,
   "metadata": {},
   "outputs": [],
   "source": [
    "cl=[1,1,1,1,1,1,1,1,0,0,0,0,0,0]\n",
    "# list of target values/classes"
   ]
  },
  {
   "cell_type": "code",
   "execution_count": null,
   "metadata": {},
   "outputs": [],
   "source": [
    "names=[\"f1\",\"f2\"]"
   ]
  },
  {
   "cell_type": "code",
   "execution_count": null,
   "metadata": {},
   "outputs": [],
   "source": [
    "df1=pd.DataFrame(f1)\n",
    "df2=pd.DataFrame(f2)\n",
    "df3=pd.DataFrame(cl)"
   ]
  },
  {
   "cell_type": "code",
   "execution_count": null,
   "metadata": {},
   "outputs": [],
   "source": [
    "tempdf=pd.concat([df1,df2,df3],axis=1,ignore_index=True)\n",
    "# creating a dataframe to represent complete dataset"
   ]
  },
  {
   "cell_type": "code",
   "execution_count": null,
   "metadata": {},
   "outputs": [],
   "source": [
    "data=pd.concat([df1,df2],axis=1,ignore_index=True)\n",
    "labels=df3\n",
    "#creating separtate dataframes for data and labels"
   ]
  },
  {
   "cell_type": "code",
   "execution_count": null,
   "metadata": {},
   "outputs": [],
   "source": [
    "data = data.rename({0: names[0],1: names[1]}, axis=1)\n",
    "labels = labels.rename({0: \"Target\"}, axis=1)\n",
    "# naming columns in respective dataframes"
   ]
  },
  {
   "cell_type": "code",
   "execution_count": null,
   "metadata": {},
   "outputs": [],
   "source": [
    "permorder = [1, 2, 3, 4, 5, 6, 7, 8, 9, 10, 11, 12, 13, 14]\n",
    "df=pd.DataFrame(columns=range(tempdf.shape[1]))\n",
    "for i in permorder:\n",
    "    l=list(tempdf.iloc[i-1])\n",
    "    df.loc[len(df.index)]=l"
   ]
  },
  {
   "cell_type": "code",
   "execution_count": null,
   "metadata": {},
   "outputs": [],
   "source": [
    "X = df.iloc[:,:-1].to_numpy()\n",
    "Y = df.iloc[:,-1].to_numpy().reshape(-1,1)"
   ]
  },
  {
   "cell_type": "markdown",
   "metadata": {},
   "source": [
    "## AutoRegressive Data"
   ]
  },
  {
   "cell_type": "code",
   "execution_count": null,
   "metadata": {},
   "outputs": [],
   "source": [
    "N = 1000 # number of rows\n",
    "M = 10 # number of columns\n",
    "\n",
    "#C1 = [0.9,0.1,0.8,0.2,0.7,0.3,0.6,0.4,0.5,0.15]\n",
    "#B1 = C1[::-1]\n",
    "C1 = 0.7\n",
    "B1 = 0.7\n",
    "B2 = 0.6\n",
    "\n",
    "cause = [[0 for col in range(M)] for row in range(N)]\n",
    "effect = [[0 for col in range(M)] for row in range(N)]\n",
    "\n",
    "for row in range(N):\n",
    "    for col in range(M):\n",
    "        if row == 0:\n",
    "            cause[row][col] = np.random.normal(0,0.33)\n",
    "        else:\n",
    "            cause[row][col] = C1 * cause[row - 1][col] + np.random.normal(0,0.33)\n",
    "\n",
    "for row in range(N):\n",
    "    for col in range(M):\n",
    "        if row == 0:\n",
    "            effect[row][col] = np.random.normal(0,0.33)\n",
    "        else:\n",
    "            effect[row][col] = B1 * effect[row - 1][col] + B2 * cause[row - 1][col] + np.random.normal(0,0.33)\n",
    "    \n",
    "# Removing Transient data\n",
    "cause = np.array(cause)\n",
    "cause = cause[100:,:]\n",
    "effect = np.array(effect)\n",
    "effect = effect[100:,:]\n",
    "cause_iterator = 0\n",
    "effect_iterator = 0\n",
    "X_vals = np.zeros((400,M))\n",
    "Y_vals = np.zeros((400,1),dtype='int64')\n",
    "\n",
    "'''# cause\n",
    "for i in range(200):\n",
    "    X_vals[i] = cause[i]\n",
    "    Y_vals[i] = 0\n",
    "# effect\n",
    "for i in range(200):\n",
    "    X_vals[200+i] = effect[i]\n",
    "    Y_vals[200+i] = 1'''\n",
    "for i in range(400):\n",
    "    r = random.random()\n",
    "    if (r<0.5):\n",
    "        X_vals[i] = cause[cause_iterator]\n",
    "        Y_vals[i] = 0\n",
    "        cause_iterator+=1\n",
    "    else:\n",
    "        X_vals[i] = effect[effect_iterator]\n",
    "        Y_vals[i] = 1\n",
    "        effect_iterator+=1\n",
    "Y_vals"
   ]
  },
  {
   "cell_type": "code",
   "execution_count": null,
   "metadata": {},
   "outputs": [],
   "source": [
    "print(\"Statistics of original Dataset: \")\n",
    "for cls in range(2):\n",
    "        print(\"Number of instances of class \",cls,\" is: \",len(Y_vals[Y_vals==cls]))\n",
    "print()\n",
    "tss = TimeSeriesSplit(n_splits = 10)\n",
    "count = 0\n",
    "accuracy = 0\n",
    "for train_index, test_index in tss.split(X_vals):\n",
    "    count+=1\n",
    "    x_train, x_test = X_vals[train_index, :], X_vals[test_index,:]\n",
    "    y_train, y_test = Y_vals[train_index], Y_vals[test_index]\n",
    "    classifier = DecisionTreeClassifier(min_samples_split=2, max_depth=11, mode=\"entropy\")\n",
    "    classifier.fit(x_train,y_train)\n",
    "    y_pred = classifier.predict(x_test) \n",
    "    print(\"Statistics for split \",count,\":\")\n",
    "    for cls in range(2):\n",
    "        print(\"Number of instances of class \",cls,\" is: \",len(y_test[y_test==cls]))\n",
    "    temp = accuracy_score(y_test, y_pred)*100\n",
    "    accuracy+=temp\n",
    "    print(\"Accuracy : \", temp)\n",
    "    print()\n",
    "print(\"Average Accuracy is: \", accuracy/10)"
   ]
  },
  {
   "cell_type": "markdown",
   "metadata": {},
   "source": [
    "## Wisconsin Breast Cancer dataset"
   ]
  },
  {
   "cell_type": "code",
   "execution_count": 4,
   "metadata": {},
   "outputs": [],
   "source": [
    "# fetch dataset \n",
    "breast_cancer_wisconsin_diagnostic = fetch_ucirepo(id=17) \n",
    "  \n",
    "# data (as pandas dataframes) \n",
    "X = breast_cancer_wisconsin_diagnostic.data.features.to_numpy()\n",
    "Y = breast_cancer_wisconsin_diagnostic.data.targets.to_numpy()\n",
    "  \n",
    "# metadata \n",
    "#print(breast_cancer_wisconsin_diagnostic.metadata) \n",
    "  \n",
    "# variable information \n",
    "#print(breast_cancer_wisconsin_diagnostic.variables) "
   ]
  },
  {
   "cell_type": "code",
   "execution_count": 5,
   "metadata": {},
   "outputs": [],
   "source": [
    "X_train, X_test, Y_train, Y_test = train_test_split(X, Y, test_size=.2, random_state=41)"
   ]
  },
  {
   "cell_type": "markdown",
   "metadata": {},
   "source": [
    "## Fit the model"
   ]
  },
  {
   "cell_type": "code",
   "execution_count": 6,
   "metadata": {},
   "outputs": [
    {
     "data": {
      "text/plain": [
       "'print(Y.shape)\\nX_vals'"
      ]
     },
     "execution_count": 6,
     "metadata": {},
     "output_type": "execute_result"
    }
   ],
   "source": [
    "'''print(Y.shape)\n",
    "X_vals'''"
   ]
  },
  {
   "cell_type": "code",
   "execution_count": 9,
   "metadata": {
    "scrolled": true
   },
   "outputs": [
    {
     "name": "stdout",
     "output_type": "stream",
     "text": [
      "X_7 <= 0.04908 ? 0.5516364837002203\n",
      " left:X_20 <= 16.77 ? 0.13232456637189233\n",
      "  left:X_13 <= 48.29 ? 0.04640094813817412\n",
      "    left:X_21 <= 30.04 ? 0.030968450694226934\n",
      "        left:B\n",
      "        right:X_26 <= 0.2 ? 0.1394385767954091\n",
      "                left:B\n",
      "                right:X_5 <= 0.06031 ? 0.4204484631347318\n",
      "                                left:M\n",
      "                                right:X_4 <= 0.09357 ? 0.4689955935892812\n",
      "                                                                left:B\n",
      "                                                                right:M\n",
      "    right:M\n",
      "  right:X_1 <= 19.46 ? 0.5548894409556178\n",
      "    left:X_28 <= 0.2527 ? 0.46691718668869925\n",
      "        left:B\n",
      "        right:X_0 <= 14.92 ? 0.9182958340544896\n",
      "                left:B\n",
      "                right:M\n",
      "    right:M\n",
      " right:X_23 <= 861.5 ? 0.2712979618346121\n",
      "  left:X_21 <= 25.47 ? 0.5409813230754511\n",
      "    left:X_25 <= 0.2979 ? 0.27752217309880617\n",
      "        left:B\n",
      "        right:X_11 <= 0.9238 ? 0.9910760598382222\n",
      "                left:M\n",
      "                right:B\n",
      "    right:X_6 <= 0.06824 ? 0.2580186686648155\n",
      "        left:B\n",
      "        right:M\n",
      "  right:M\n"
     ]
    }
   ],
   "source": [
    "classifier = DecisionTreeClassifier(min_samples_split=2, max_depth=11, mode='entropy')\n",
    "classifier.fit(X_train,Y_train)\n",
    "classifier.print_tree()"
   ]
  },
  {
   "cell_type": "code",
   "execution_count": 10,
   "metadata": {},
   "outputs": [
    {
     "name": "stdout",
     "output_type": "stream",
     "text": [
      "Accuracy is:  92.10526315789474\n"
     ]
    }
   ],
   "source": [
    "Y_pred = classifier.predict(X_test)\n",
    "print(\"Accuracy is: \",accuracy_score(Y_test, Y_pred)*100)"
   ]
  },
  {
   "cell_type": "code",
   "execution_count": null,
   "metadata": {},
   "outputs": [],
   "source": []
  }
 ],
 "metadata": {
  "kernelspec": {
   "display_name": "Python 3 (ipykernel)",
   "language": "python",
   "name": "python3"
  },
  "language_info": {
   "codemirror_mode": {
    "name": "ipython",
    "version": 3
   },
   "file_extension": ".py",
   "mimetype": "text/x-python",
   "name": "python",
   "nbconvert_exporter": "python",
   "pygments_lexer": "ipython3",
   "version": "3.10.7"
  }
 },
 "nbformat": 4,
 "nbformat_minor": 4
}
